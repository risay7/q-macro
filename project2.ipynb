{
  "nbformat": 4,
  "nbformat_minor": 0,
  "metadata": {
    "colab": {
      "provenance": [],
      "authorship_tag": "ABX9TyPcQchtOIvIVbH3QVH9V1YE",
      "include_colab_link": true
    },
    "kernelspec": {
      "name": "python3",
      "display_name": "Python 3"
    },
    "language_info": {
      "name": "python"
    }
  },
  "cells": [
    {
      "cell_type": "markdown",
      "metadata": {
        "id": "view-in-github",
        "colab_type": "text"
      },
      "source": [
        "<a href=\"https://colab.research.google.com/github/risay7/q-macro/blob/main/project2.ipynb\" target=\"_parent\"><img src=\"https://colab.research.google.com/assets/colab-badge.svg\" alt=\"Open In Colab\"/></a>"
      ]
    },
    {
      "cell_type": "code",
      "execution_count": 4,
      "metadata": {
        "colab": {
          "base_uri": "https://localhost:8080/"
        },
        "id": "wt0gUQARXuM6",
        "outputId": "21344838-f852-49a5-b673-2e9dd72df538"
      },
      "outputs": [
        {
          "output_type": "stream",
          "name": "stdout",
          "text": [
            "           country  growth_rate  tfp_growth  capital_deepening  tfp_share  \\\n",
            "0        Australia     3.698826    0.568473           4.338491       1.25   \n",
            "1          Austria     3.282833    1.404119           5.292571       1.75   \n",
            "2          Belgium     3.134620    1.581669           3.280509       1.87   \n",
            "3           Canada     3.643394    0.689554           4.791117       1.32   \n",
            "4      Switzerland     2.338743    0.447547           3.110337       1.20   \n",
            "5          Germany     2.898598    1.597488           3.699970       1.89   \n",
            "6          Denmark     2.948642    0.957847           3.674746       1.46   \n",
            "7            Spain     4.249275    1.584947           6.049156       1.88   \n",
            "8          Finland     3.484118    1.690602           4.123867       1.96   \n",
            "9           France     3.482664    1.645494           3.496802       1.92   \n",
            "10  United Kingdom     2.619016    0.725138           3.267658       1.34   \n",
            "11          Greece     4.011536    1.142526           5.297863       1.58   \n",
            "12         Ireland     4.914629    2.037430           6.118727       2.24   \n",
            "13         Iceland     4.141462    1.008070           4.617286       1.49   \n",
            "14           Italy     3.549957    1.220632           5.021608       1.62   \n",
            "15           Japan     5.059707    1.286089           7.671034       1.67   \n",
            "16     Netherlands     3.497005    1.313472           3.566396       1.69   \n",
            "17          Norway     3.786480    1.547718           3.689718       1.85   \n",
            "18     New Zealand     2.583182    0.074208           3.811038       1.03   \n",
            "19        Portugal     4.302311    0.787497           7.026911       1.37   \n",
            "20          Sweden     2.716124    1.027691           3.786540       1.51   \n",
            "21   United States     3.544784    0.654793           3.532851       1.30   \n",
            "\n",
            "    capital_share  \n",
            "0           -0.25  \n",
            "1           -0.75  \n",
            "2           -0.87  \n",
            "3           -0.32  \n",
            "4           -0.20  \n",
            "5           -0.89  \n",
            "6           -0.46  \n",
            "7           -0.88  \n",
            "8           -0.96  \n",
            "9           -0.92  \n",
            "10          -0.34  \n",
            "11          -0.58  \n",
            "12          -1.24  \n",
            "13          -0.49  \n",
            "14          -0.62  \n",
            "15          -0.67  \n",
            "16          -0.69  \n",
            "17          -0.85  \n",
            "18          -0.03  \n",
            "19          -0.37  \n",
            "20          -0.51  \n",
            "21          -0.30  \n"
          ]
        },
        {
          "output_type": "stream",
          "name": "stderr",
          "text": [
            "<ipython-input-4-3b7ac71782dd>:39: SettingWithCopyWarning: \n",
            "A value is trying to be set on a copy of a slice from a DataFrame.\n",
            "Try using .loc[row_indexer,col_indexer] = value instead\n",
            "\n",
            "See the caveats in the documentation: https://pandas.pydata.org/pandas-docs/stable/user_guide/indexing.html#returning-a-view-versus-a-copy\n",
            "  final_data['tfp_share'] = final_data['tfp_share'].round(2)  # データの丸め\n",
            "<ipython-input-4-3b7ac71782dd>:40: SettingWithCopyWarning: \n",
            "A value is trying to be set on a copy of a slice from a DataFrame.\n",
            "Try using .loc[row_indexer,col_indexer] = value instead\n",
            "\n",
            "See the caveats in the documentation: https://pandas.pydata.org/pandas-docs/stable/user_guide/indexing.html#returning-a-view-versus-a-copy\n",
            "  final_data['capital_share'] = final_data['capital_share'].round(2)\n"
          ]
        }
      ],
      "source": [
        "import pandas as pd\n",
        "\n",
        "# Penn World Tableの最新データを読み込む\n",
        "url = 'https://www.rug.nl/ggdc/docs/pwt91.dta'\n",
        "pwt_data = pd.read_stata(url)\n",
        "\n",
        "# OECD諸国リスト\n",
        "oecd_countries = [\n",
        "    \"Australia\", \"Austria\", \"Belgium\", \"Canada\", \"Denmark\", \"Finland\", \"France\",\n",
        "    \"Germany\", \"Greece\", \"Iceland\", \"Ireland\", \"Italy\", \"Japan\", \"Netherlands\",\n",
        "    \"New Zealand\", \"Norway\", \"Portugal\", \"Spain\", \"Sweden\", \"Switzerland\",\n",
        "    \"United Kingdom\", \"United States\"\n",
        "]\n",
        "\n",
        "# 必要なデータを抽出\n",
        "data = pwt_data.loc[\n",
        "    (pwt_data['country'].isin(oecd_countries)) &\n",
        "    (pwt_data['year'] >= 1960) &\n",
        "    (pwt_data['year'] <= 2000),\n",
        "    ['country', 'year', 'rgdpna', 'cn', 'emp', 'rtfpna']\n",
        "]\n",
        "\n",
        "# 1960年と2000年のデータのみを取得\n",
        "data_1960 = data[data['year'] == 1960]\n",
        "data_2000 = data[data['year'] == 2000]\n",
        "\n",
        "# マージして成長率を計算\n",
        "data_merged = pd.merge(data_1960, data_2000, on='country', suffixes=('_1960', '_2000'))\n",
        "data_merged['growth_rate'] = ((data_merged['rgdpna_2000'] / data_merged['rgdpna_1960']) ** (1/40) - 1) * 100\n",
        "data_merged['tfp_growth'] = ((data_merged['rtfpna_2000'] / data_merged['rtfpna_1960']) ** (1/40) - 1) * 100\n",
        "data_merged['capital_deepening'] = ((data_merged['cn_2000'] / data_merged['cn_1960']) ** (1/40) - 1) * 100\n",
        "\n",
        "# TFPシェアと資本シェアの計算（ここでは仮の計算方法を使用）\n",
        "data_merged['tfp_share'] = data_merged['rtfpna_2000'] / data_merged['rtfpna_1960']\n",
        "data_merged['capital_share'] = 1 - data_merged['tfp_share']\n",
        "\n",
        "# 最終表の整形\n",
        "final_data = data_merged[['country', 'growth_rate', 'tfp_growth', 'capital_deepening', 'tfp_share', 'capital_share']]\n",
        "final_data['tfp_share'] = final_data['tfp_share'].round(2)  # データの丸め\n",
        "final_data['capital_share'] = final_data['capital_share'].round(2)\n",
        "\n",
        "# 表の表示\n",
        "print(final_data)\n",
        "\n"
      ]
    },
    {
      "cell_type": "code",
      "source": [],
      "metadata": {
        "id": "MkYQU4HbYcsK"
      },
      "execution_count": null,
      "outputs": []
    }
  ]
}